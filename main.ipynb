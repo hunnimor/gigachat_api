{
 "cells": [
  {
   "cell_type": "code",
   "execution_count": null,
   "id": "23d16701",
   "metadata": {},
   "outputs": [],
   "source": [
    "auth_key = ''"
   ]
  },
  {
   "cell_type": "code",
   "execution_count": 2,
   "id": "00871a1a",
   "metadata": {},
   "outputs": [],
   "source": [
    "import urllib3\n",
    "\n",
    "urllib3.disable_warnings()"
   ]
  },
  {
   "cell_type": "code",
   "execution_count": null,
   "id": "77948710",
   "metadata": {},
   "outputs": [],
   "source": [
    "from gigachat import GigaChat\n",
    "\n",
    "# Инициализируем клиент с отключенным SSL-верификацией\n",
    "giga = GigaChat(credentials=auth_key, verify_ssl_certs=False)\n",
    "\n",
    "# Получаем токен\n",
    "response = giga.get_token()\n",
    "\n",
    "access_token = response.access_token"
   ]
  },
  {
   "cell_type": "code",
   "execution_count": null,
   "id": "6f9538a5",
   "metadata": {},
   "outputs": [
    {
     "name": "stdout",
     "output_type": "stream",
     "text": [
      "{'choices': [{'message': {'content': '', 'role': 'assistant', 'function_call': {'name': 'get_current_time', 'arguments': {}}, 'functions_state_id': '0199a5ac-3c69-73c1-9f53-555c01fcc0d9'}, 'index': 0, 'finish_reason': 'function_call'}], 'created': 1759421152, 'model': 'GigaChat:2.0.28.2', 'object': 'chat.completion', 'usage': {'prompt_tokens': 72, 'completion_tokens': 13, 'total_tokens': 85, 'precached_prompt_tokens': 0}}\n",
      "2025-10-02T19:05:52.426895\n",
      "Сейчас 19:05, вторник, 2 октября 2025 года.\n"
     ]
    }
   ],
   "source": [
    "import requests\n",
    "import json\n",
    "from datetime import datetime\n",
    "\n",
    "# Функция, которую будем отправлять\n",
    "def get_current_time():\n",
    "    return datetime.now().isoformat()\n",
    "\n",
    "# URL и токен доступа\n",
    "url = \"https://gigachat.devices.sberbank.ru/api/v1/chat/completions\"\n",
    "auth_header = {\"Authorization\": f\"Bearer {access_token}\"}\n",
    "\n",
    "functions = [\n",
    "    {\n",
    "        \"name\": \"get_current_time\",\n",
    "        \"description\": \"Возвращает текущее время в ISO формате\",\n",
    "        \"parameters\": {\n",
    "            \"type\": \"object\",\n",
    "            \"properties\": {}  # важно оставить пустой объект properties\n",
    "        },\n",
    "        \"return_parameters\": {\n",
    "            \"type\": \"object\",\n",
    "            \"properties\": {\n",
    "                \"time\": {\n",
    "                    \"type\": \"string\",\n",
    "                    \"description\": \"Текущее время в формате ISO\"\n",
    "                }\n",
    "            },\n",
    "            \"required\": [\"time\"]\n",
    "        }\n",
    "    }\n",
    "]\n",
    "\n",
    "# Основной запрос\n",
    "body = {\n",
    "    \"model\": \"GigaChat\",\n",
    "    \"messages\": [\n",
    "        {\"role\": \"user\", \"content\": \"Какое сейчас время?\"}\n",
    "    ],\n",
    "    \"functions\": functions,\n",
    "    \"function_call\": \"auto\"\n",
    "}\n",
    "\n",
    "# Отправляем запрос\n",
    "response = requests.post(url, headers={\"Content-Type\": \"application/json\", **auth_header}, data=json.dumps(body), verify=False)\n",
    "\n",
    "# Анализируем ответ\n",
    "result = response.json()\n",
    "print(result)\n",
    "\n",
    "if \"choices\" in result and len(result[\"choices\"]) > 0:\n",
    "    choice = result[\"choices\"][0]\n",
    "    \n",
    "    if \"function_call\" in choice['message']:\n",
    "        func_call = choice['message'][\"function_call\"]\n",
    "        \n",
    "        # Вызываем функцию\n",
    "        output = locals()[func_call[\"name\"]]()\n",
    "        print(output)\n",
    "    else:\n",
    "        print(choice[\"message\"][\"content\"])\n",
    "else:\n",
    "    print(\"Ошибка:\", result)\n",
    "\n",
    "# Дополняем ответ\n",
    "body['messages'].append(choice['message'])\n",
    "body['messages'].append({'role': 'function', 'content': f\"\\\"{output}\\\"\"})\n",
    "\n",
    "# Отправляем запрос\n",
    "response = requests.post(url, headers={\"Content-Type\": \"application/json\", **auth_header}, data=json.dumps(body), verify=False)\n",
    "\n",
    "# Анализируем ответ\n",
    "result = response.json()\n",
    "print(result['choices'][0]['message']['content'])"
   ]
  }
 ],
 "metadata": {
  "kernelspec": {
   "display_name": "Python 3",
   "language": "python",
   "name": "python3"
  },
  "language_info": {
   "codemirror_mode": {
    "name": "ipython",
    "version": 3
   },
   "file_extension": ".py",
   "mimetype": "text/x-python",
   "name": "python",
   "nbconvert_exporter": "python",
   "pygments_lexer": "ipython3",
   "version": "3.11.5"
  }
 },
 "nbformat": 4,
 "nbformat_minor": 5
}
